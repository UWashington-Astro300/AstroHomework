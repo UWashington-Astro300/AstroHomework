{
 "cells": [
  {
   "cell_type": "code",
   "execution_count": null,
   "id": "215e8b5c-7bb2-489c-885e-892ab675c52c",
   "metadata": {},
   "outputs": [],
   "source": [
    "import numpy as np\n",
    "\n",
    "from astropy import units as u\n",
    "from astropy import constants as const"
   ]
  },
  {
   "cell_type": "markdown",
   "id": "ce836d83-9cab-4503-9da0-7e7d342014fc",
   "metadata": {},
   "source": [
    "## The temperature (T$_{eq}$) of a rapidly rotating airless world orbiting a star can be found from:\n",
    "\n",
    "$$ \\large\n",
    "{T}_{\\rm {eq}}^{4} ={{\\frac {S\\left(1-A\\right)}{4\\epsilon \\sigma }}} \\hspace{1cm} \\mathrm{where} \\hspace{1cm}\n",
    "S = \\frac{L_{\\odot}}{4\\pi d^{2}}\n",
    "$$\n",
    "\n",
    "#### The water-line of a stellar system can be defined as the distance where the equilibrium temperature of a world is at the melting point of water (273 K)\n",
    "\n",
    "## Calculate the distance (in AU) of the water-line for the Sun."
   ]
  },
  {
   "cell_type": "markdown",
   "id": "3c124436-df0a-46bd-8445-5c3db6f14d4e",
   "metadata": {},
   "source": [
    "#### A little algebra:\n",
    "\n",
    "$$ \\large\n",
    "{T}_{\\rm {eq}}^{4} ={{\\frac {\\frac{L_{\\odot}}{4\\pi d^{2}}\\left(1-A\\right)}{4\\epsilon \\sigma }}} \\hspace{1cm} \\rightarrow \\hspace{1cm}\n",
    "    d^{2} ={{\\frac {L_{\\odot}\\left(1-A\\right)}{16 \\pi \\epsilon \\sigma T^{4}}}}\n",
    "$$"
   ]
  },
  {
   "cell_type": "code",
   "execution_count": null,
   "id": "ff210072-d69d-4af9-92c9-2826fe876163",
   "metadata": {},
   "outputs": [],
   "source": [
    "def find_distance(my_temp, my_albedo, my_emiss):\n",
    "    result_a = const.L_sun * (1 - my_albedo)\n",
    "    result_b = 16 * np.pi * my_emiss * const.sigma_sb * (my_temp ** 4)\n",
    "    return np.sqrt(result_a / result_b).decompose()"
   ]
  },
  {
   "cell_type": "code",
   "execution_count": null,
   "id": "4e363623-c711-478a-afd0-1c922b2839a0",
   "metadata": {
    "tags": []
   },
   "outputs": [],
   "source": [
    "find_distance(my_temp = 273 * u.K, my_albedo = 0.20, my_emiss= 0.85)"
   ]
  },
  {
   "cell_type": "code",
   "execution_count": null,
   "id": "171c8a60-a5a8-4fbe-9600-483dc649b779",
   "metadata": {
    "tags": []
   },
   "outputs": [],
   "source": [
    "find_distance(my_temp = 273 * u.K, my_albedo = 0.20, my_emiss= 0.85).to(u.AU)"
   ]
  },
  {
   "cell_type": "code",
   "execution_count": null,
   "id": "2d8cc700-2082-4b72-8ba1-c75d36b84f9c",
   "metadata": {
    "tags": []
   },
   "outputs": [],
   "source": [
    "find_distance(my_temp = 1273 * u.K, my_albedo = 0.20, my_emiss= 0.85).to(u.AU)"
   ]
  },
  {
   "cell_type": "code",
   "execution_count": null,
   "id": "c77b7e70-6376-40cf-acfa-ecef16c5ffd9",
   "metadata": {},
   "outputs": [],
   "source": []
  }
 ],
 "metadata": {
  "kernelspec": {
   "display_name": "Python 3 (ipykernel)",
   "language": "python",
   "name": "python3"
  },
  "language_info": {
   "codemirror_mode": {
    "name": "ipython",
    "version": 3
   },
   "file_extension": ".py",
   "mimetype": "text/x-python",
   "name": "python",
   "nbconvert_exporter": "python",
   "pygments_lexer": "ipython3",
   "version": "3.10.10"
  }
 },
 "nbformat": 4,
 "nbformat_minor": 5
}
